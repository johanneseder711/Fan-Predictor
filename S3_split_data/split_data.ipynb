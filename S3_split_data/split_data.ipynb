{
 "cells": [
  {
   "cell_type": "code",
   "execution_count": 1,
   "id": "a377a138-aa20-4a3e-8a90-ecad41b3fd5c",
   "metadata": {},
   "outputs": [],
   "source": [
    "# IMPORTS\n",
    "from pathlib import Path\n",
    "import pandas as pd\n",
    "from numpy.random import randint\n",
    "import numpy as np\n",
    "import random"
   ]
  },
  {
   "cell_type": "code",
   "execution_count": 2,
   "id": "31b6773e-d361-433d-9a6e-a6bf1df811cf",
   "metadata": {},
   "outputs": [],
   "source": [
    "path_data = Path(\"/Users/johanneseder711/Documents/Python/01_active/Fan Predictor/S2_get_data/final_v2.csv\")"
   ]
  },
  {
   "cell_type": "code",
   "execution_count": 3,
   "id": "5e8cc4b6-5c81-489b-8048-ce69757ead6a",
   "metadata": {},
   "outputs": [],
   "source": [
    "if path_data.exists():\n",
    "    df = pd.read_csv(path_data, sep=';')\n",
    "else:\n",
    "    print(\"Your path %s does not exits - please check if it is correct!\"%path_data)"
   ]
  },
  {
   "cell_type": "code",
   "execution_count": 4,
   "id": "3fa9b865-0750-4efc-be64-ac666427b9cc",
   "metadata": {},
   "outputs": [
    {
     "data": {
      "text/html": [
       "<div>\n",
       "<style scoped>\n",
       "    .dataframe tbody tr th:only-of-type {\n",
       "        vertical-align: middle;\n",
       "    }\n",
       "\n",
       "    .dataframe tbody tr th {\n",
       "        vertical-align: top;\n",
       "    }\n",
       "\n",
       "    .dataframe thead th {\n",
       "        text-align: right;\n",
       "    }\n",
       "</style>\n",
       "<table border=\"1\" class=\"dataframe\">\n",
       "  <thead>\n",
       "    <tr style=\"text-align: right;\">\n",
       "      <th></th>\n",
       "      <th>Datetime_string</th>\n",
       "      <th>postal_codes_hometeam</th>\n",
       "      <th>location_lattitude</th>\n",
       "      <th>location_longitude</th>\n",
       "      <th>temp</th>\n",
       "      <th>feelslike</th>\n",
       "      <th>humidity</th>\n",
       "      <th>precip</th>\n",
       "      <th>snow</th>\n",
       "      <th>windspeed</th>\n",
       "      <th>cloudcover</th>\n",
       "      <th>conditions</th>\n",
       "    </tr>\n",
       "  </thead>\n",
       "  <tbody>\n",
       "    <tr>\n",
       "      <th>0</th>\n",
       "      <td>2021-08-15T17:30:00</td>\n",
       "      <td>3644 Emmersdorf</td>\n",
       "      <td>48.246908</td>\n",
       "      <td>15.333008</td>\n",
       "      <td>26.9</td>\n",
       "      <td>28.0</td>\n",
       "      <td>60.0</td>\n",
       "      <td>0.0</td>\n",
       "      <td>0.0</td>\n",
       "      <td>10.6</td>\n",
       "      <td>57.7</td>\n",
       "      <td>Partially cloudy</td>\n",
       "    </tr>\n",
       "    <tr>\n",
       "      <th>1</th>\n",
       "      <td>2021-08-15T17:30:00</td>\n",
       "      <td>3691 Nöchling</td>\n",
       "      <td>48.223577</td>\n",
       "      <td>14.986886</td>\n",
       "      <td>29.3</td>\n",
       "      <td>30.2</td>\n",
       "      <td>50.3</td>\n",
       "      <td>0.0</td>\n",
       "      <td>0.0</td>\n",
       "      <td>5.2</td>\n",
       "      <td>60.0</td>\n",
       "      <td>Partially cloudy</td>\n",
       "    </tr>\n",
       "    <tr>\n",
       "      <th>2</th>\n",
       "      <td>2021-08-15T17:30:00</td>\n",
       "      <td>3650 Pöggstall</td>\n",
       "      <td>48.313518</td>\n",
       "      <td>15.187767</td>\n",
       "      <td>27.2</td>\n",
       "      <td>28.2</td>\n",
       "      <td>57.6</td>\n",
       "      <td>0.0</td>\n",
       "      <td>0.0</td>\n",
       "      <td>8.3</td>\n",
       "      <td>24.7</td>\n",
       "      <td>Partially cloudy</td>\n",
       "    </tr>\n",
       "    <tr>\n",
       "      <th>3</th>\n",
       "      <td>2021-08-14T17:30:00</td>\n",
       "      <td>3683 Yspertal</td>\n",
       "      <td>48.293714</td>\n",
       "      <td>15.066376</td>\n",
       "      <td>26.5</td>\n",
       "      <td>26.5</td>\n",
       "      <td>54.0</td>\n",
       "      <td>0.0</td>\n",
       "      <td>0.0</td>\n",
       "      <td>10.1</td>\n",
       "      <td>9.9</td>\n",
       "      <td>Clear</td>\n",
       "    </tr>\n",
       "    <tr>\n",
       "      <th>4</th>\n",
       "      <td>2021-08-13T20:00:00</td>\n",
       "      <td>3643 Maria Laach</td>\n",
       "      <td>48.303540</td>\n",
       "      <td>15.343772</td>\n",
       "      <td>21.9</td>\n",
       "      <td>21.9</td>\n",
       "      <td>77.5</td>\n",
       "      <td>0.0</td>\n",
       "      <td>0.0</td>\n",
       "      <td>13.8</td>\n",
       "      <td>50.0</td>\n",
       "      <td>Partially cloudy</td>\n",
       "    </tr>\n",
       "  </tbody>\n",
       "</table>\n",
       "</div>"
      ],
      "text/plain": [
       "       Datetime_string postal_codes_hometeam  location_lattitude  \\\n",
       "0  2021-08-15T17:30:00       3644 Emmersdorf           48.246908   \n",
       "1  2021-08-15T17:30:00         3691 Nöchling           48.223577   \n",
       "2  2021-08-15T17:30:00        3650 Pöggstall           48.313518   \n",
       "3  2021-08-14T17:30:00         3683 Yspertal           48.293714   \n",
       "4  2021-08-13T20:00:00      3643 Maria Laach           48.303540   \n",
       "\n",
       "   location_longitude  temp  feelslike  humidity  precip  snow  windspeed  \\\n",
       "0           15.333008  26.9       28.0      60.0     0.0   0.0       10.6   \n",
       "1           14.986886  29.3       30.2      50.3     0.0   0.0        5.2   \n",
       "2           15.187767  27.2       28.2      57.6     0.0   0.0        8.3   \n",
       "3           15.066376  26.5       26.5      54.0     0.0   0.0       10.1   \n",
       "4           15.343772  21.9       21.9      77.5     0.0   0.0       13.8   \n",
       "\n",
       "   cloudcover        conditions  \n",
       "0        57.7  Partially cloudy  \n",
       "1        60.0  Partially cloudy  \n",
       "2        24.7  Partially cloudy  \n",
       "3         9.9             Clear  \n",
       "4        50.0  Partially cloudy  "
      ]
     },
     "execution_count": 4,
     "metadata": {},
     "output_type": "execute_result"
    }
   ],
   "source": [
    "df.head()"
   ]
  },
  {
   "cell_type": "code",
   "execution_count": 5,
   "id": "52f63de3-690e-464a-9e90-4a5b32541cc9",
   "metadata": {},
   "outputs": [
    {
     "data": {
      "text/html": [
       "<div>\n",
       "<style scoped>\n",
       "    .dataframe tbody tr th:only-of-type {\n",
       "        vertical-align: middle;\n",
       "    }\n",
       "\n",
       "    .dataframe tbody tr th {\n",
       "        vertical-align: top;\n",
       "    }\n",
       "\n",
       "    .dataframe thead th {\n",
       "        text-align: right;\n",
       "    }\n",
       "</style>\n",
       "<table border=\"1\" class=\"dataframe\">\n",
       "  <thead>\n",
       "    <tr style=\"text-align: right;\">\n",
       "      <th></th>\n",
       "      <th>Datetime_string</th>\n",
       "      <th>postal_codes_hometeam</th>\n",
       "      <th>location_lattitude</th>\n",
       "      <th>location_longitude</th>\n",
       "      <th>temp</th>\n",
       "      <th>feelslike</th>\n",
       "      <th>humidity</th>\n",
       "      <th>precip</th>\n",
       "      <th>snow</th>\n",
       "      <th>windspeed</th>\n",
       "      <th>cloudcover</th>\n",
       "      <th>conditions</th>\n",
       "    </tr>\n",
       "  </thead>\n",
       "  <tbody>\n",
       "    <tr>\n",
       "      <th>2469</th>\n",
       "      <td>2022-05-13T19:30:00</td>\n",
       "      <td>3910 Zwettl</td>\n",
       "      <td>48.608263</td>\n",
       "      <td>15.162957</td>\n",
       "      <td>19.3</td>\n",
       "      <td>19.3</td>\n",
       "      <td>68.9</td>\n",
       "      <td>0.0</td>\n",
       "      <td>0.0</td>\n",
       "      <td>14.4</td>\n",
       "      <td>63.6</td>\n",
       "      <td>Partially cloudy</td>\n",
       "    </tr>\n",
       "    <tr>\n",
       "      <th>2470</th>\n",
       "      <td>2022-05-13T19:30:00</td>\n",
       "      <td>3442 Langenrohr</td>\n",
       "      <td>48.314589</td>\n",
       "      <td>16.001344</td>\n",
       "      <td>20.6</td>\n",
       "      <td>20.6</td>\n",
       "      <td>64.6</td>\n",
       "      <td>0.0</td>\n",
       "      <td>0.0</td>\n",
       "      <td>33.9</td>\n",
       "      <td>40.0</td>\n",
       "      <td>Partially cloudy</td>\n",
       "    </tr>\n",
       "    <tr>\n",
       "      <th>2471</th>\n",
       "      <td>2022-05-13T19:30:00</td>\n",
       "      <td>3830 Waidhofen/Thaya</td>\n",
       "      <td>48.814055</td>\n",
       "      <td>15.286011</td>\n",
       "      <td>19.4</td>\n",
       "      <td>19.4</td>\n",
       "      <td>60.2</td>\n",
       "      <td>0.0</td>\n",
       "      <td>0.0</td>\n",
       "      <td>12.9</td>\n",
       "      <td>10.0</td>\n",
       "      <td>Clear</td>\n",
       "    </tr>\n",
       "    <tr>\n",
       "      <th>2472</th>\n",
       "      <td>2022-05-13T19:30:00</td>\n",
       "      <td>2831 Scheiblingkirchen</td>\n",
       "      <td>47.658784</td>\n",
       "      <td>16.134273</td>\n",
       "      <td>17.8</td>\n",
       "      <td>17.8</td>\n",
       "      <td>58.6</td>\n",
       "      <td>0.0</td>\n",
       "      <td>0.0</td>\n",
       "      <td>15.1</td>\n",
       "      <td>51.0</td>\n",
       "      <td>Partially cloudy</td>\n",
       "    </tr>\n",
       "    <tr>\n",
       "      <th>2473</th>\n",
       "      <td>2022-05-12T20:00:00</td>\n",
       "      <td>3100 St. Pölten</td>\n",
       "      <td>48.204399</td>\n",
       "      <td>15.622912</td>\n",
       "      <td>25.3</td>\n",
       "      <td>25.3</td>\n",
       "      <td>42.4</td>\n",
       "      <td>0.0</td>\n",
       "      <td>0.0</td>\n",
       "      <td>14.2</td>\n",
       "      <td>29.9</td>\n",
       "      <td>Partially cloudy</td>\n",
       "    </tr>\n",
       "  </tbody>\n",
       "</table>\n",
       "</div>"
      ],
      "text/plain": [
       "          Datetime_string   postal_codes_hometeam  location_lattitude  \\\n",
       "2469  2022-05-13T19:30:00             3910 Zwettl           48.608263   \n",
       "2470  2022-05-13T19:30:00         3442 Langenrohr           48.314589   \n",
       "2471  2022-05-13T19:30:00    3830 Waidhofen/Thaya           48.814055   \n",
       "2472  2022-05-13T19:30:00  2831 Scheiblingkirchen           47.658784   \n",
       "2473  2022-05-12T20:00:00         3100 St. Pölten           48.204399   \n",
       "\n",
       "      location_longitude  temp  feelslike  humidity  precip  snow  windspeed  \\\n",
       "2469           15.162957  19.3       19.3      68.9     0.0   0.0       14.4   \n",
       "2470           16.001344  20.6       20.6      64.6     0.0   0.0       33.9   \n",
       "2471           15.286011  19.4       19.4      60.2     0.0   0.0       12.9   \n",
       "2472           16.134273  17.8       17.8      58.6     0.0   0.0       15.1   \n",
       "2473           15.622912  25.3       25.3      42.4     0.0   0.0       14.2   \n",
       "\n",
       "      cloudcover        conditions  \n",
       "2469        63.6  Partially cloudy  \n",
       "2470        40.0  Partially cloudy  \n",
       "2471        10.0             Clear  \n",
       "2472        51.0  Partially cloudy  \n",
       "2473        29.9  Partially cloudy  "
      ]
     },
     "execution_count": 5,
     "metadata": {},
     "output_type": "execute_result"
    }
   ],
   "source": [
    "df.tail()"
   ]
  },
  {
   "cell_type": "code",
   "execution_count": 6,
   "id": "6d4d1309-5c13-496b-be8f-f0f00f7ce3d9",
   "metadata": {},
   "outputs": [
    {
     "name": "stdout",
     "output_type": "stream",
     "text": [
      "<class 'pandas.core.frame.DataFrame'>\n",
      "RangeIndex: 2474 entries, 0 to 2473\n",
      "Data columns (total 12 columns):\n",
      " #   Column                 Non-Null Count  Dtype  \n",
      "---  ------                 --------------  -----  \n",
      " 0   Datetime_string        2474 non-null   object \n",
      " 1   postal_codes_hometeam  2474 non-null   object \n",
      " 2   location_lattitude     2474 non-null   float64\n",
      " 3   location_longitude     2474 non-null   float64\n",
      " 4   temp                   2474 non-null   float64\n",
      " 5   feelslike              2474 non-null   float64\n",
      " 6   humidity               2474 non-null   float64\n",
      " 7   precip                 2474 non-null   float64\n",
      " 8   snow                   2431 non-null   float64\n",
      " 9   windspeed              2474 non-null   float64\n",
      " 10  cloudcover             2474 non-null   float64\n",
      " 11  conditions             2474 non-null   object \n",
      "dtypes: float64(9), object(3)\n",
      "memory usage: 232.1+ KB\n"
     ]
    }
   ],
   "source": [
    "df.info()"
   ]
  },
  {
   "cell_type": "code",
   "execution_count": 7,
   "id": "6123995b-fa5f-48b3-9504-d977669fd435",
   "metadata": {},
   "outputs": [],
   "source": [
    "len_df = len(df)\n",
    "split_size = 0.2 # 80% of the data will be training and 20% will be test set\n",
    "test_samples = int(len_df * 0.2)"
   ]
  },
  {
   "cell_type": "code",
   "execution_count": 8,
   "id": "14f4435f-4503-4283-ad37-2b487ada2e00",
   "metadata": {},
   "outputs": [
    {
     "name": "stdout",
     "output_type": "stream",
     "text": [
      "Dataframe has 2474 samples, where we will use 1980 for training and 494 for testing.\n"
     ]
    }
   ],
   "source": [
    "print(f\"Dataframe has {len_df} samples, where we will use {len_df - test_samples} for training and {test_samples} for testing.\")"
   ]
  },
  {
   "cell_type": "code",
   "execution_count": 9,
   "id": "1c65b5e2-7e52-4f46-b758-8b03ed9e1215",
   "metadata": {},
   "outputs": [],
   "source": [
    "test_indexes = random.sample(range(0, len_df), test_samples) # sampling without replacement to get unique indexes\n",
    "train_indexes = [i for i in range(len_df) if i not in test_indexes]"
   ]
  },
  {
   "cell_type": "code",
   "execution_count": 10,
   "id": "c98adfbf-3811-4d24-b7ae-f8e7f0f2f630",
   "metadata": {},
   "outputs": [
    {
     "data": {
      "text/plain": [
       "2474"
      ]
     },
     "execution_count": 10,
     "metadata": {},
     "output_type": "execute_result"
    }
   ],
   "source": [
    "len(train_indexes) + len(test_indexes)"
   ]
  },
  {
   "cell_type": "code",
   "execution_count": 11,
   "id": "b6f87f06-9e70-45b8-bb09-74e9505c4187",
   "metadata": {},
   "outputs": [],
   "source": [
    "# split the data\n",
    "df_train = df.iloc[train_indexes]\n",
    "df_test = df.iloc[test_indexes]"
   ]
  },
  {
   "cell_type": "code",
   "execution_count": 12,
   "id": "ebed1c13-7520-49a0-b3e6-5faa609cb22c",
   "metadata": {},
   "outputs": [
    {
     "data": {
      "text/html": [
       "<div>\n",
       "<style scoped>\n",
       "    .dataframe tbody tr th:only-of-type {\n",
       "        vertical-align: middle;\n",
       "    }\n",
       "\n",
       "    .dataframe tbody tr th {\n",
       "        vertical-align: top;\n",
       "    }\n",
       "\n",
       "    .dataframe thead th {\n",
       "        text-align: right;\n",
       "    }\n",
       "</style>\n",
       "<table border=\"1\" class=\"dataframe\">\n",
       "  <thead>\n",
       "    <tr style=\"text-align: right;\">\n",
       "      <th></th>\n",
       "      <th>Datetime_string</th>\n",
       "      <th>postal_codes_hometeam</th>\n",
       "      <th>location_lattitude</th>\n",
       "      <th>location_longitude</th>\n",
       "      <th>temp</th>\n",
       "      <th>feelslike</th>\n",
       "      <th>humidity</th>\n",
       "      <th>precip</th>\n",
       "      <th>snow</th>\n",
       "      <th>windspeed</th>\n",
       "      <th>cloudcover</th>\n",
       "      <th>conditions</th>\n",
       "    </tr>\n",
       "  </thead>\n",
       "  <tbody>\n",
       "    <tr>\n",
       "      <th>0</th>\n",
       "      <td>2021-08-15T17:30:00</td>\n",
       "      <td>3644 Emmersdorf</td>\n",
       "      <td>48.246908</td>\n",
       "      <td>15.333008</td>\n",
       "      <td>26.9</td>\n",
       "      <td>28.0</td>\n",
       "      <td>60.0</td>\n",
       "      <td>0.0</td>\n",
       "      <td>0.0</td>\n",
       "      <td>10.6</td>\n",
       "      <td>57.7</td>\n",
       "      <td>Partially cloudy</td>\n",
       "    </tr>\n",
       "    <tr>\n",
       "      <th>2</th>\n",
       "      <td>2021-08-15T17:30:00</td>\n",
       "      <td>3650 Pöggstall</td>\n",
       "      <td>48.313518</td>\n",
       "      <td>15.187767</td>\n",
       "      <td>27.2</td>\n",
       "      <td>28.2</td>\n",
       "      <td>57.6</td>\n",
       "      <td>0.0</td>\n",
       "      <td>0.0</td>\n",
       "      <td>8.3</td>\n",
       "      <td>24.7</td>\n",
       "      <td>Partially cloudy</td>\n",
       "    </tr>\n",
       "    <tr>\n",
       "      <th>3</th>\n",
       "      <td>2021-08-14T17:30:00</td>\n",
       "      <td>3683 Yspertal</td>\n",
       "      <td>48.293714</td>\n",
       "      <td>15.066376</td>\n",
       "      <td>26.5</td>\n",
       "      <td>26.5</td>\n",
       "      <td>54.0</td>\n",
       "      <td>0.0</td>\n",
       "      <td>0.0</td>\n",
       "      <td>10.1</td>\n",
       "      <td>9.9</td>\n",
       "      <td>Clear</td>\n",
       "    </tr>\n",
       "    <tr>\n",
       "      <th>4</th>\n",
       "      <td>2021-08-13T20:00:00</td>\n",
       "      <td>3643 Maria Laach</td>\n",
       "      <td>48.303540</td>\n",
       "      <td>15.343772</td>\n",
       "      <td>21.9</td>\n",
       "      <td>21.9</td>\n",
       "      <td>77.5</td>\n",
       "      <td>0.0</td>\n",
       "      <td>0.0</td>\n",
       "      <td>13.8</td>\n",
       "      <td>50.0</td>\n",
       "      <td>Partially cloudy</td>\n",
       "    </tr>\n",
       "    <tr>\n",
       "      <th>5</th>\n",
       "      <td>2021-08-13T20:00:00</td>\n",
       "      <td>3653 Weiten</td>\n",
       "      <td>48.296006</td>\n",
       "      <td>15.261060</td>\n",
       "      <td>22.3</td>\n",
       "      <td>22.3</td>\n",
       "      <td>77.3</td>\n",
       "      <td>0.0</td>\n",
       "      <td>0.0</td>\n",
       "      <td>12.6</td>\n",
       "      <td>50.0</td>\n",
       "      <td>Partially cloudy</td>\n",
       "    </tr>\n",
       "  </tbody>\n",
       "</table>\n",
       "</div>"
      ],
      "text/plain": [
       "       Datetime_string postal_codes_hometeam  location_lattitude  \\\n",
       "0  2021-08-15T17:30:00       3644 Emmersdorf           48.246908   \n",
       "2  2021-08-15T17:30:00        3650 Pöggstall           48.313518   \n",
       "3  2021-08-14T17:30:00         3683 Yspertal           48.293714   \n",
       "4  2021-08-13T20:00:00      3643 Maria Laach           48.303540   \n",
       "5  2021-08-13T20:00:00           3653 Weiten           48.296006   \n",
       "\n",
       "   location_longitude  temp  feelslike  humidity  precip  snow  windspeed  \\\n",
       "0           15.333008  26.9       28.0      60.0     0.0   0.0       10.6   \n",
       "2           15.187767  27.2       28.2      57.6     0.0   0.0        8.3   \n",
       "3           15.066376  26.5       26.5      54.0     0.0   0.0       10.1   \n",
       "4           15.343772  21.9       21.9      77.5     0.0   0.0       13.8   \n",
       "5           15.261060  22.3       22.3      77.3     0.0   0.0       12.6   \n",
       "\n",
       "   cloudcover        conditions  \n",
       "0        57.7  Partially cloudy  \n",
       "2        24.7  Partially cloudy  \n",
       "3         9.9             Clear  \n",
       "4        50.0  Partially cloudy  \n",
       "5        50.0  Partially cloudy  "
      ]
     },
     "execution_count": 12,
     "metadata": {},
     "output_type": "execute_result"
    }
   ],
   "source": [
    "df_train.head()"
   ]
  },
  {
   "cell_type": "code",
   "execution_count": 13,
   "id": "c7acd996-b35a-4a94-bd1b-02413cf8d834",
   "metadata": {},
   "outputs": [
    {
     "data": {
      "text/plain": [
       "((1980, 12), (494, 12))"
      ]
     },
     "execution_count": 13,
     "metadata": {},
     "output_type": "execute_result"
    }
   ],
   "source": [
    "# check shapes\n",
    "df_train.shape, df_test.shape"
   ]
  },
  {
   "cell_type": "markdown",
   "id": "67976d00",
   "metadata": {},
   "source": [
    "# Export the data into two different training and testsets to avoid data leakage"
   ]
  },
  {
   "cell_type": "code",
   "execution_count": 14,
   "id": "5c7eaa30-68f6-4f06-aeaf-3fd7857f994f",
   "metadata": {},
   "outputs": [],
   "source": [
    "df_train.to_csv('train.csv',sep=';',index=False)"
   ]
  },
  {
   "cell_type": "code",
   "execution_count": 15,
   "id": "8cf3eee5",
   "metadata": {},
   "outputs": [],
   "source": [
    "df_test.to_csv('test.csv', sep=';',index=False)"
   ]
  },
  {
   "cell_type": "code",
   "execution_count": null,
   "id": "45743b8e",
   "metadata": {},
   "outputs": [],
   "source": []
  }
 ],
 "metadata": {
  "kernelspec": {
   "display_name": "Python 3.9.5 ('venv_fan_predictor')",
   "language": "python",
   "name": "python3"
  },
  "language_info": {
   "codemirror_mode": {
    "name": "ipython",
    "version": 3
   },
   "file_extension": ".py",
   "mimetype": "text/x-python",
   "name": "python",
   "nbconvert_exporter": "python",
   "pygments_lexer": "ipython3",
   "version": "3.9.5"
  },
  "vscode": {
   "interpreter": {
    "hash": "2f11de65bdccc6410a3b430d5402d54c8b15a778e8a7486ac0583dc6a4ba6ea4"
   }
  }
 },
 "nbformat": 4,
 "nbformat_minor": 5
}
