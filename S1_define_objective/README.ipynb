{
 "cells": [
  {
   "cell_type": "markdown",
   "id": "e962d79d-5ca8-4647-94b4-54c28ee84835",
   "metadata": {},
   "source": [
    "# Exploring Regression Metrics (Loss functions)\n",
    "## MAE (Mean Absolute Error)\n",
    "<span style=\"font-size:1.2em;\">\n",
    "$ MAE(y^{true}, y^{pred}) = \\frac{1}{n} \\sum_{i=1}^{n}|y^{true}_{i} - y^{pred}| $\n",
    "</span>\n",
    "\n",
    "It is the mean of the absolute value differences between the ground truth $y^{t}$\n",
    "\n",
    "## MSE (Mean Squared Error)\n",
    "<span style=\"font-size:1.2em;\">\n",
    "$ MSE(y^{true}, y^{pred}) = \\frac{1}{n} \\sum_{i=1}^{n}(y^{true}_{i} - y^{pred})^2$\n",
    "</span>\n",
    "\n",
    "It is the mean of the squared differences between the groud truth and the \n",
    "model"
   ]
  }
 ],
 "metadata": {
  "kernelspec": {
   "display_name": "Python 3 (ipykernel)",
   "language": "python",
   "name": "python3"
  },
  "language_info": {
   "codemirror_mode": {
    "name": "ipython",
    "version": 3
   },
   "file_extension": ".py",
   "mimetype": "text/x-python",
   "name": "python",
   "nbconvert_exporter": "python",
   "pygments_lexer": "ipython3",
   "version": "3.9.5"
  }
 },
 "nbformat": 4,
 "nbformat_minor": 5
}
